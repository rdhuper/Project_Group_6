{
 "cells": [
  {
   "cell_type": "code",
   "execution_count": 1,
   "metadata": {},
   "outputs": [],
   "source": [
    "# Dependencies and Setup\n",
    "import matplotlib.pyplot as plt\n",
    "import pandas as pd\n",
    "import numpy as np\n",
    "import requests\n",
    "import time\n",
    "import urllib.parse\n",
    "from pprint import pprint\n",
    "\n",
    "\n",
    "# Incorporated citipy to determine city based on latitude and longitude\n",
    "from citipy import citipy\n",
    "\n",
    "# Output File (CSV)\n",
    "# output_data_file = \"output_data/us_cities.csv\""
   ]
  },
  {
   "cell_type": "code",
   "execution_count": 4,
   "metadata": {},
   "outputs": [],
   "source": [
    "# collect full list of cities from Teleport API \n",
    "cities_avail_url = \"https://api.teleport.org/api/urban_areas/\"\n",
    "\n",
    "cities_series = []\n",
    "cities_list = []\n",
    "cities_response = requests.get(cities_avail_url).json()\n",
    "#         print(query_url)\n",
    "# pprint(cities_response['_links']['ua:item'][0])\n",
    "\n",
    "\n",
    "for kittens in cities_response['_links']['ua:item']:\n",
    "    cities_list.append(kittens['name'])\n",
    "# cities_series.append(cities_response['_links']['ua:item'])"
   ]
  },
  {
   "cell_type": "code",
   "execution_count": 5,
   "metadata": {},
   "outputs": [],
   "source": [
    "# list of cities\n",
    "# cities = ['houston','dallas','austin','baltimore','sacramento','san francisco','new jersey']\n",
    "cities = cities_list"
   ]
  },
  {
   "cell_type": "code",
   "execution_count": 6,
   "metadata": {},
   "outputs": [],
   "source": [
    "#  API call structure / Save config information\n",
    "\n",
    "url = \"https://api.teleport.org/api/urban_areas/slug:\"\n"
   ]
  },
  {
   "cell_type": "code",
   "execution_count": null,
   "metadata": {},
   "outputs": [],
   "source": []
  },
  {
   "cell_type": "code",
   "execution_count": null,
   "metadata": {},
   "outputs": [],
   "source": []
  },
  {
   "cell_type": "code",
   "execution_count": null,
   "metadata": {},
   "outputs": [],
   "source": [
    "# set up lists to hold response info\n",
    "latitude = []\n",
    "longitude = []\n",
    "teleport_score = []\n",
    "\n",
    "processed_cities = []\n",
    "\n",
    "# Loop through the list of cities and perform a request for data on each\n",
    "for city in cities:\n",
    "    try:\n",
    "        \n",
    "        # Build query URL with city\n",
    "       \n",
    "        city = city.replace(', ','-')\n",
    "        city = city.replace(' ','-')\n",
    "        query_url = url + city + \"/scores/\"\n",
    "        query_url = query_url.lower()\n",
    "#         query_url = urllib.parse.quote_plus(query_url)\n",
    "#         print(query_url)\n",
    "#         break\n",
    "        response = requests.get(query_url).json()\n",
    "        \n",
    "        print(query_url)\n",
    "#         pprint(response)\n",
    "\n",
    "        housing.append(response['categories'][0]['score_out_of_10'])\n",
    "        cost_of_living.append(response['categories'][1]['score_out_of_10'])\n",
    "        safety.append(response['categories'][7]['score_out_of_10'])\n",
    "        healthcare.append(response['categories'][8]['score_out_of_10'])\n",
    "        education.append(response['categories'][9]['score_out_of_10'])\n",
    "        environmental_quality.append(response['categories'][10]['score_out_of_10'])\n",
    "        economy.append(response['categories'][11]['score_out_of_10'])\n",
    "        taxation.append(response['categories'][12]['score_out_of_10'])\n",
    "\n",
    "        outdoors.append(response['categories'][16]['score_out_of_10'])\n",
    "        teleport_score.append(response['teleport_city_score'])\n",
    "\n",
    "        \n",
    "\n",
    "\n",
    "#         temp.append(response['main']['temp'])\n",
    "#         humid.append(response['main']['humidity'])\n",
    "#         cloudy.append(response['clouds']['all'])\n",
    "#         windy.append(response['wind']['speed'])\n",
    "#         # Include print log with city id and name \n",
    "#         name = response['name']\n",
    "#         cityid = response['id']\n",
    "#         print(f\"The city being processed is: {name} with an ID of {cityid}\")\n",
    "        processed_cities.append(city)\n",
    "    except:\n",
    "        print(f\"This row has an error, see cities list above\")\n",
    "        print(query_url)\n",
    "#         cities.remove(city)\n",
    "        pass\n",
    "#         continue\n",
    "    \n",
    "\n",
    "\n"
   ]
  },
  {
   "cell_type": "code",
   "execution_count": null,
   "metadata": {},
   "outputs": [],
   "source": [
    "# create a data frame from cities, scores\n",
    "city_dict = {\n",
    "    \"city\": processed_cities,\n",
    "    \"housing\": housing,\n",
    "    \"cost_of_living\": cost_of_living,\n",
    "    \"safety\": safety,\n",
    "    \"healthcare\": healthcare,\n",
    "    \"education\": education,\n",
    "    \"environmental_quality\": environmental_quality,\n",
    "    \"economy\": economy,\n",
    "    \"taxation\": taxation,\n",
    "    \"outdoors\": outdoors,\n",
    "    \"teleport_score\": teleport_score\n",
    "}\n",
    "city_data = pd.DataFrame(city_dict)\n",
    "city_data.head(10)\n"
   ]
  }
 ],
 "metadata": {
  "kernelspec": {
   "display_name": "Python [conda root]",
   "language": "python",
   "name": "conda-root-py"
  },
  "language_info": {
   "codemirror_mode": {
    "name": "ipython",
    "version": 3
   },
   "file_extension": ".py",
   "mimetype": "text/x-python",
   "name": "python",
   "nbconvert_exporter": "python",
   "pygments_lexer": "ipython3",
   "version": "3.6.5"
  }
 },
 "nbformat": 4,
 "nbformat_minor": 2
}
